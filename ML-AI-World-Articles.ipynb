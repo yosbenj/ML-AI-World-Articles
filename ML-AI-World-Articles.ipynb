{
 "cells": [
  {
   "cell_type": "markdown",
   "id": "cebcf969",
   "metadata": {},
   "source": [
    "# Lab | Machine Learning & AI World\n",
    "Machine Learning is now one of the trending topics if you talk about technology. Everyday a lot of material about this topic arrives to the media, not only news about new discovers but also a lot of tutorials and articles about people working on this.\n",
    "\n",
    "The objectives of this lab are:\n",
    "\n",
    "Get introduced into this world through the latest most important news we have had in the last few years.\n",
    "Guide you to do a deeper research to understand them better.\n",
    "Practice your presenting skills\n",
    "So you will be asked to read a piece of news and then share it with your colleagues. This way, when we finish sharing, you will have a light idea of the most important events but also you will be able to dig into one specific topic a little better.\n",
    "\n",
    "#### Summary\n",
    "Lightning Talks are a unique and engaging way to learn and share knowledge. It's a fun challenge that will not only improve your presentation skills but also your ability to distil complex ideas into clear, succinct points. So, get ready to enlighten your peers with your Lightning Talk!\n",
    "\n",
    "So let's start digging a litle bit. Imagine you open today's AI & ML journal and you see a very interesting news article. You read it but that is not enough. You want to understand:\n",
    "\n",
    "- If it is so important as the title says (is it really a big step?) or you think it is more important than the title suggests.\n",
    "- Which part of ML or AI is used and how is it related to ML or AI.\n",
    "- What did they do to get the data.\n",
    "- Which data did they use.\n",
    "- How did they do to build the model. Which type of model is it?\n",
    "- Do you know any other project that applies the same techniques? Could you use something for another use case?\n",
    "- Do you find any ethical implications? Collateral effects?\n",
    "- Do you know any other related news?\n",
    "\n",
    "So you need to look for more information. Maybe the paper the scientists published, other articles, some information about the techniques, ..."
   ]
  },
  {
   "cell_type": "markdown",
   "id": "951b4893",
   "metadata": {},
   "source": [
    "# How to Stop Robots From Becoming Racist\n",
    "\n",
    "Algorithms can amplify patterns of discrimination. Robotics researchers are calling for new ways to prevent mechanical bodies acting out those biases."
   ]
  },
  {
   "cell_type": "markdown",
   "id": "70705e0c",
   "metadata": {},
   "source": [
    "## Aspects for the Lightning Talk:\n",
    "\n",
    "### Importance of the Article\n",
    "1. **Relevance**: The article discusses how AI and robotics can inherit and perpetuate societal biases, a significant issue as these technologies become more integrated into daily life.\n",
    "2. **Comparison with Title**: The importance seems well-aligned with the title. It's a crucial insight into how AI models, specifically in robotics, can replicate existing biases.\n",
    "\n",
    "### AI/ML Aspects Used\n",
    "1. **Technique**: The study uses a robotic arm with a vision system trained on internet data (images and text).\n",
    "2. **AI/ML Relation**: This relates to AI's subfield of computer vision and machine learning models trained on large datasets.\n",
    "\n",
    "### Data Acquisition and Use\n",
    "1. **Data Source**: The robot used online photos and texts for learning.\n",
    "2. **Data Used**: The experiment involved cubes with passport-style photos of individuals from diverse racial and gender backgrounds.\n",
    "\n",
    "### Model Building\n",
    "1. **Model Type**: The model is a vision system, likely a type of neural network, trained on internet-sourced data.\n",
    "2. **Building Process**: It involves training the model to correlate images with specific descriptors, a common practice in AI image recognition tasks.\n",
    "\n",
    "### Similar Projects\n",
    "1. **Other Projects**: Similar techniques are used in AI-generated art (like DALL-E) and natural language processing.\n",
    "2. **Alternate Use Cases**: These methods can be adapted for diverse applications, from virtual assistants to autonomous vehicles.\n",
    "\n",
    "### Ethical and Collateral Implications\n",
    "1. **Ethical Concerns**: The perpetuation of biases (racial, gender) in AI models poses significant ethical issues.\n",
    "2. **Collateral Effects**: There's a risk of reinforcing stereotypes and discriminatory practices in various sectors, like law enforcement or employment.\n",
    "\n",
    "### Related News or Studies\n",
    "- Biases in other AI models, like facial recognition systems.\n",
    "- Studies on AI’s impact in areas like hiring, law enforcement, and credit scoring.\n",
    "- COMPAS Case: https://www.propublica.org/article/machine-bias-risk-assessments-in-criminal-sentencing\n",
    "- Algorithmic fairness through group parities? The case of COMPAS-SAPMOC: https://link.springer.com/article/10.1007/s00146-022-01441-y\n",
    "- London GangMatrix Case Automated Racism in Police Surveillance: https://bylinetimes.com/2020/08/26/the-matrix-of-violence-automated-racism-in-police-surveillance/\n",
    "- Predictive policing algorithms are racist. They need to be dismantled.: https://www.technologyreview.com/2020/07/17/1005396/predictive-policing-algorithms-racist-dismantled-machine-learning-bias-criminal-justice/\n",
    "\n",
    "### Additional Research Avenues\n",
    "- Original paper, “Robots Enact Malignant Stereotypes,” for detailed methodology and findings: https://ar5iv.labs.arxiv.org/html/2207.11569\n",
    "- Research on the CLIP model and its applications.\n",
    "- Studies on the mitigation of biases in AI.\n",
    "- Related Study on Fairness and Bias in Robot Learning: https://ar5iv.labs.arxiv.org/html/2207.03444\n",
    "- Article on Addressing Bias in AI for Health Equity: https://www.nature.com/articles/s41746-023-00913-9"
   ]
  }
 ],
 "metadata": {
  "kernelspec": {
   "display_name": "Python 3 (ipykernel)",
   "language": "python",
   "name": "python3"
  },
  "language_info": {
   "codemirror_mode": {
    "name": "ipython",
    "version": 3
   },
   "file_extension": ".py",
   "mimetype": "text/x-python",
   "name": "python",
   "nbconvert_exporter": "python",
   "pygments_lexer": "ipython3",
   "version": "3.9.18"
  }
 },
 "nbformat": 4,
 "nbformat_minor": 5
}
